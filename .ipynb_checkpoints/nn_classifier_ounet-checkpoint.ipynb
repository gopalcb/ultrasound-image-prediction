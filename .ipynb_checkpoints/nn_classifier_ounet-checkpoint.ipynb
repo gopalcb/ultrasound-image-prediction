{
 "cells": [
  {
   "cell_type": "markdown",
   "metadata": {},
   "source": [
    "# Classifier: Distinguishing Catheters from their Echoes"
   ]
  },
  {
   "cell_type": "markdown",
   "metadata": {},
   "source": [
    "# Import Libraries:"
   ]
  },
  {
   "cell_type": "code",
   "execution_count": 1,
   "metadata": {},
   "outputs": [
    {
     "name": "stdout",
     "output_type": "stream",
     "text": [
      "Using PyTorch Version 1.4.0\n"
     ]
    }
   ],
   "source": [
    "# Importing libraries\n",
    "import numpy as np\n",
    "import pandas as pd\n",
    "from sklearn.datasets import make_moons\n",
    "from sklearn.model_selection import train_test_split\n",
    "import matplotlib.pyplot as plt\n",
    "import math\n",
    "import torch\n",
    "import torchvision\n",
    "import torchvision.transforms as transforms\n",
    "import torch.nn as nn\n",
    "import os\n",
    "from os import listdir\n",
    "from os.path import isfile, join\n",
    "from sklearn.preprocessing import StandardScaler\n",
    "import matplotlib.pyplot as plt\n",
    "import gc\n",
    "from sklearn.metrics import confusion_matrix \n",
    "from sklearn.metrics import accuracy_score \n",
    "from sklearn.metrics import classification_report \n",
    "import matplotlib.patches as patches\n",
    "from PIL import Image\n",
    "from mlxtend.plotting import plot_decision_regions\n",
    "import seaborn as sns\n",
    "import cv2\n",
    "import random\n",
    "\n",
    "%matplotlib inline\n",
    "\n",
    "# Get current/root directory\n",
    "root = os.getcwd()\n",
    "\n",
    "print(\"Using PyTorch Version %s\" %torch.__version__)"
   ]
  },
  {
   "cell_type": "markdown",
   "metadata": {},
   "source": [
    "# Classifier Parameters and Hyperparameters:"
   ]
  },
  {
   "cell_type": "code",
   "execution_count": 55,
   "metadata": {},
   "outputs": [],
   "source": [
    "# Hyper-parameter settings\n",
    "TOTAL_EPOCH = 20\n",
    "LEARNING_RATE = 0.001\n",
    "MOMENTUM = 0.9\n",
    "BATCH_SIZE = 11\n",
    "\n",
    "class_arr = [0,1]\n",
    "data_source = 'ounet' # ounet: unet output data, native: "
   ]
  },
  {
   "cell_type": "markdown",
   "metadata": {},
   "source": [
    "# Select patients randomly:"
   ]
  },
  {
   "cell_type": "code",
   "execution_count": 53,
   "metadata": {},
   "outputs": [
    {
     "name": "stdout",
     "output_type": "stream",
     "text": [
      "[9, 6, 1, 16, 74, 44, 52, 2, 43, 35, 17, 31, 51, 64, 13, 53, 75, 100, 78, 67]\n"
     ]
    }
   ],
   "source": [
    "# Random data set select\n",
    "patients_index = []\n",
    "select_patients = 20\n",
    "\n",
    "train_items = []\n",
    "test_items = []\n",
    "\n",
    "last_index = 0\n",
    "\n",
    "for i in range(1, 101):\n",
    "    if i != 57 and i != 112 and i != 179 and i != 184 and i != 120:\n",
    "        patients_index.append(i)\n",
    "\n",
    "sampled_list = random.sample(patients_index, select_patients)\n",
    "\n",
    "for i in range(0, int(len(sampled_list)/2)):\n",
    "    train_items.append(sampled_list[i])\n",
    "    last_index = i\n",
    "\n",
    "for i in range(i+1, len(sampled_list)):\n",
    "    test_items.append(sampled_list[i])\n",
    "\n",
    "print(sampled_list)"
   ]
  },
  {
   "cell_type": "markdown",
   "metadata": {},
   "source": [
    "# Load Training Data:"
   ]
  },
  {
   "cell_type": "code",
   "execution_count": 54,
   "metadata": {
    "scrolled": false
   },
   "outputs": [
    {
     "name": "stdout",
     "output_type": "stream",
     "text": [
      "Loading train data...\n",
      "4642\n",
      "Done!\n"
     ]
    }
   ],
   "source": [
    "# Veriables\n",
    "feature_map = []\n",
    "classes = [] # Catheter: 1, Echo: 0\n",
    "data_count = 0\n",
    "file_count = 0\n",
    "\n",
    "mags = []\n",
    "phases = []\n",
    "sectors = []\n",
    "distances = []\n",
    "sigs = []\n",
    "\n",
    "cat_data = []\n",
    "echo_data = []\n",
    "\n",
    "# Read train data\n",
    "train_loc = 'D:/SCA/256_256/feature_map/exp/train'\n",
    "train_files = [f for f in listdir(train_loc) if isfile(join(train_loc, f))]\n",
    "\n",
    "print('Loading train data...')\n",
    "\n",
    "for file in train_files:\n",
    "    \n",
    "    f_arr = file.split('_')\n",
    "    pn = int(f_arr[0])\n",
    "    otype = f_arr[3]\n",
    "    \n",
    "    if pn in train_items:\n",
    "\n",
    "        lbl = 1 if otype == 'c' else 0\n",
    "\n",
    "        dataset=pd.read_csv(train_loc + '/' + file, header=None, delimiter='\\t')   \n",
    "        dataset = dataset.values\n",
    "\n",
    "        one_object_features = []\n",
    "\n",
    "        d_count = 0\n",
    "\n",
    "        for ds in dataset:\n",
    "            # Order: magnitude(0), phase(1), signature(2), sector(3), distance(4)\n",
    "            if d_count <= 39:\n",
    "\n",
    "                o_arr = ds[0].split(',')\n",
    "                o_arr = np.array(o_arr)\n",
    "                o_arr = o_arr.astype(np.float)\n",
    "\n",
    "                mags.append(o_arr[0])\n",
    "                phases.append(o_arr[1])\n",
    "                sectors.append(o_arr[3])\n",
    "                distances.append(o_arr[4])\n",
    "                sigs.append(o_arr[2])\n",
    "\n",
    "                one_object_features.append(o_arr[0])\n",
    "                #one_object_features.append(o_arr[1])\n",
    "                one_object_features.append(o_arr[2])\n",
    "                #one_object_features.append(o_arr[3])\n",
    "                one_object_features.append(o_arr[4])\n",
    "\n",
    "                d_count += 1\n",
    "\n",
    "                if d_count == 39:\n",
    "                    continue\n",
    "\n",
    "\n",
    "        one_object_features = np.array(one_object_features)\n",
    "\n",
    "        # Data normalization\n",
    "        scaler = StandardScaler()\n",
    "        scaled_data = scaler.fit_transform(one_object_features.reshape(-1, 1))\n",
    "\n",
    "        feature_map.append(scaled_data)\n",
    "        classes.append(lbl)\n",
    "\n",
    "        if lbl == 1:\n",
    "            cat_data.append(scaled_data)\n",
    "            echo_data.append(scaled_data)\n",
    "        else:\n",
    "            echo_data.append(scaled_data)\n",
    "\n",
    "        data_count = data_count + 1\n",
    "        print('\\r' + str(data_count), end='')\n",
    "\n",
    "        file_count += 1\n",
    "    \n",
    "feature_map = np.array(feature_map)\n",
    "classes = np.array(classes)\n",
    "\n",
    "print('\\nDone!')"
   ]
  },
  {
   "cell_type": "markdown",
   "metadata": {},
   "source": [
    "# Initialize UNET output before loading as Test data:"
   ]
  },
  {
   "cell_type": "code",
   "execution_count": 463,
   "metadata": {},
   "outputs": [
    {
     "name": "stdout",
     "output_type": "stream",
     "text": [
      "[9, 67, 90, 81, 108, 124, 146, 99, 1, 21, 16, 88, 14, 6, 94, 145, 66, 14, 91, 130, 37, 147, 131, 85, 130, 157, 134, 143, 104, 6, 45, 104, 6, 56, 163, 2, 119, 175, 81, 146, 37, 147, 90, 24, 146, 145, 102, 45, 175, 134, 91, 66, 108, 2, 81]\n"
     ]
    }
   ],
   "source": [
    "unet_patients = 55 #5,7,8,10,12,15,20,30\n",
    "test_items = []\n",
    "unet_pred_full = []\n",
    "\n",
    "unet_accuracies=pd.read_csv('D:/SCA/256_256/roi/confidences.txt', header=None, delimiter=\"\\t\")\n",
    "unet_accuracies = unet_accuracies.values\n",
    "\n",
    "for ua in unet_accuracies:\n",
    "    sp_res = ua[0].split(',')\n",
    "    arr = sp_res[0].split('_')\n",
    "    d = {'t':arr[3], 'f': sp_res[0], 'a': sp_res[1]}\n",
    "    unet_pred_full.append(d)\n",
    "\n",
    "if data_source == 'ounet':\n",
    "    up_index = []\n",
    "\n",
    "    for ds in unet_accuracies:\n",
    "        x = ds[0].split(',')\n",
    "        cl = x[0].split('_')\n",
    "        up_index.append(int(cl[0]))\n",
    "\n",
    "    patients_index = list(set(patients_index)) # total 55 patients\n",
    "    up_index.sort()\n",
    "    \n",
    "    sampled_list = random.sample(up_index, unet_patients)\n",
    "\n",
    "    for i in range(0, int(len(sampled_list))):\n",
    "        test_items.append(sampled_list[i])\n",
    "        \n",
    "    print(sampled_list)"
   ]
  },
  {
   "cell_type": "markdown",
   "metadata": {},
   "source": [
    "# Load Test Data:"
   ]
  },
  {
   "cell_type": "code",
   "execution_count": 471,
   "metadata": {
    "scrolled": false
   },
   "outputs": [
    {
     "name": "stdout",
     "output_type": "stream",
     "text": [
      "Loading test data...\n",
      "11635\n",
      "Done!\n"
     ]
    }
   ],
   "source": [
    "# Load test data\n",
    "\n",
    "# Veriables\n",
    "test_feature_map = []\n",
    "test_classes = [] # Catheter: 1, Echo: 0\n",
    "test_files_title = []\n",
    "data_count = 0\n",
    "\n",
    "# Read test data\n",
    "#test_loc = 'D:/SCA/256_256/feature_map/exp/train'\n",
    "test_loc = 'D:/SCA/256_256/feature_map/test_unet'\n",
    "test_files = [f for f in listdir(test_loc) if isfile(join(test_loc, f))]\n",
    "\n",
    "print('Loading test data...')\n",
    "\n",
    "for file in test_files:\n",
    "    f_arr = file.split('_')\n",
    "    pn = int(f_arr[0])\n",
    "    otype = f_arr[3]\n",
    "    \n",
    "    if pn in test_items:\n",
    "        \n",
    "        if otype == 'e':\n",
    "    \n",
    "            lbl = 1 if otype == 'c' else 0\n",
    "\n",
    "            dataset=pd.read_csv(test_loc + '/' + file, header=None, delimiter='\\t')   \n",
    "            dataset = dataset.values\n",
    "            if len(dataset) == 0:\n",
    "                print('null')\n",
    "\n",
    "            one_object_features = []\n",
    "            d_count = 0\n",
    "\n",
    "            for ds in dataset:\n",
    "                # Order: magnitude(0), phase(1), signature(2), sector(3), distance(4)\n",
    "\n",
    "                if d_count <= 39:\n",
    "                    o_arr = ds[0].split(',')\n",
    "                    o_arr = np.array(o_arr)\n",
    "                    o_arr = o_arr.astype(np.float)\n",
    "\n",
    "                    one_object_features.append(o_arr[0])\n",
    "                    #one_object_features.append(o_arr[1])\n",
    "                    one_object_features.append(o_arr[2])\n",
    "                    #one_object_features.append(o_arr[3])\n",
    "                    one_object_features.append(o_arr[4])\n",
    "\n",
    "                    d_count += 1\n",
    "\n",
    "                    if d_count == 39:\n",
    "                        continue\n",
    "\n",
    "            data_count = data_count + 1\n",
    "            print('\\r' + str(data_count), end='')\n",
    "\n",
    "            one_object_features = np.array(one_object_features)\n",
    "\n",
    "            # Data normalization\n",
    "            scaler = StandardScaler()\n",
    "            scaled_data = scaler.fit_transform(one_object_features.reshape(-1, 1))\n",
    "\n",
    "            test_feature_map.append(scaled_data)\n",
    "            test_classes.append(lbl)\n",
    "            test_files_title.append(file)\n",
    "    \n",
    "test_feature_map = np.array(test_feature_map)\n",
    "test_classes = np.array(test_classes)\n",
    "test_files_title = np.array(test_files_title)\n",
    "\n",
    "test_feature_map = torch.from_numpy(test_feature_map).float()\n",
    "test_classes = torch.from_numpy(test_classes).long()\n",
    "\n",
    "print('\\nDone!')"
   ]
  },
  {
   "cell_type": "code",
   "execution_count": 4,
   "metadata": {},
   "outputs": [
    {
     "name": "stdout",
     "output_type": "stream",
     "text": [
      "6660\n"
     ]
    }
   ],
   "source": [
    "test_loc = 'D:/SCA/256_256/feature_map/test_unet'\n",
    "test_files = [f for f in listdir(test_loc) if isfile(join(test_loc, f))]\n",
    "img_slices = []\n",
    "\n",
    "for file in test_files:\n",
    "    f_arr = file.split('_')\n",
    "    pno = int(f_arr[0])\n",
    "    slc = int(f_arr[1])\n",
    "    img_slices.append(str(pno)+'_'+str(slc))\n",
    "    \n",
    "print(len(set(img_slices)))"
   ]
  },
  {
   "cell_type": "markdown",
   "metadata": {},
   "source": [
    "# Map UNET Output Data:"
   ]
  },
  {
   "cell_type": "code",
   "execution_count": 472,
   "metadata": {},
   "outputs": [
    {
     "name": "stdout",
     "output_type": "stream",
     "text": [
      "Reading...\n",
      "Done!\n"
     ]
    }
   ],
   "source": [
    "# Get unet accuracies\n",
    "unet_prediction_accuracies = []\n",
    "\n",
    "print('Reading...')\n",
    "if data_source == 'ounet':\n",
    "    for item in test_files_title:\n",
    "        fstr = item.split('.')[0]\n",
    "        item = next(item for item in unet_pred_full if item[\"f\"] == fstr)\n",
    "        unet_prediction_accuracies.append(item)\n",
    "        #print(item)\n",
    "        \n",
    "unet_prediction_accuracies = np.array(unet_prediction_accuracies)\n",
    "        \n",
    "print('Done!')"
   ]
  },
  {
   "cell_type": "markdown",
   "metadata": {},
   "source": [
    "# Conver numpy array of Training Data into Data Frame:"
   ]
  },
  {
   "cell_type": "code",
   "execution_count": 40,
   "metadata": {},
   "outputs": [
    {
     "data": {
      "text/html": [
       "<div>\n",
       "<style scoped>\n",
       "    .dataframe tbody tr th:only-of-type {\n",
       "        vertical-align: middle;\n",
       "    }\n",
       "\n",
       "    .dataframe tbody tr th {\n",
       "        vertical-align: top;\n",
       "    }\n",
       "\n",
       "    .dataframe thead th {\n",
       "        text-align: right;\n",
       "    }\n",
       "</style>\n",
       "<table border=\"1\" class=\"dataframe\">\n",
       "  <thead>\n",
       "    <tr style=\"text-align: right;\">\n",
       "      <th></th>\n",
       "      <th>Freq. Coeff.</th>\n",
       "      <th>Spec. Rot.</th>\n",
       "      <th>Spec. Dev.</th>\n",
       "      <th>Sector</th>\n",
       "      <th>Distance</th>\n",
       "    </tr>\n",
       "  </thead>\n",
       "  <tbody>\n",
       "    <tr>\n",
       "      <th>0</th>\n",
       "      <td>0.898911</td>\n",
       "      <td>0.000000</td>\n",
       "      <td>-1.302566</td>\n",
       "      <td>0.0</td>\n",
       "      <td>0.000000</td>\n",
       "    </tr>\n",
       "    <tr>\n",
       "      <th>1</th>\n",
       "      <td>0.186340</td>\n",
       "      <td>-0.218669</td>\n",
       "      <td>0.708626</td>\n",
       "      <td>0.0</td>\n",
       "      <td>18.439089</td>\n",
       "    </tr>\n",
       "    <tr>\n",
       "      <th>2</th>\n",
       "      <td>0.185555</td>\n",
       "      <td>-0.218669</td>\n",
       "      <td>0.437338</td>\n",
       "      <td>0.0</td>\n",
       "      <td>18.439089</td>\n",
       "    </tr>\n",
       "    <tr>\n",
       "      <th>3</th>\n",
       "      <td>0.110231</td>\n",
       "      <td>-0.321751</td>\n",
       "      <td>0.682317</td>\n",
       "      <td>0.0</td>\n",
       "      <td>31.622777</td>\n",
       "    </tr>\n",
       "    <tr>\n",
       "      <th>4</th>\n",
       "      <td>0.110164</td>\n",
       "      <td>-0.321751</td>\n",
       "      <td>0.141897</td>\n",
       "      <td>0.0</td>\n",
       "      <td>31.622777</td>\n",
       "    </tr>\n",
       "    <tr>\n",
       "      <th>5</th>\n",
       "      <td>0.100436</td>\n",
       "      <td>0.000000</td>\n",
       "      <td>0.030294</td>\n",
       "      <td>0.0</td>\n",
       "      <td>19.000000</td>\n",
       "    </tr>\n",
       "    <tr>\n",
       "      <th>6</th>\n",
       "      <td>0.099856</td>\n",
       "      <td>0.000000</td>\n",
       "      <td>0.000000</td>\n",
       "      <td>0.0</td>\n",
       "      <td>19.000000</td>\n",
       "    </tr>\n",
       "    <tr>\n",
       "      <th>7</th>\n",
       "      <td>0.066827</td>\n",
       "      <td>-0.293589</td>\n",
       "      <td>0.000000</td>\n",
       "      <td>0.0</td>\n",
       "      <td>44.922155</td>\n",
       "    </tr>\n",
       "    <tr>\n",
       "      <th>8</th>\n",
       "      <td>0.066812</td>\n",
       "      <td>-0.293589</td>\n",
       "      <td>0.933359</td>\n",
       "      <td>0.0</td>\n",
       "      <td>44.922155</td>\n",
       "    </tr>\n",
       "    <tr>\n",
       "      <th>9</th>\n",
       "      <td>0.050743</td>\n",
       "      <td>0.000000</td>\n",
       "      <td>0.766496</td>\n",
       "      <td>0.0</td>\n",
       "      <td>35.000000</td>\n",
       "    </tr>\n",
       "  </tbody>\n",
       "</table>\n",
       "</div>"
      ],
      "text/plain": [
       "   Freq. Coeff.  Spec. Rot.  Spec. Dev.  Sector   Distance\n",
       "0      0.898911    0.000000   -1.302566     0.0   0.000000\n",
       "1      0.186340   -0.218669    0.708626     0.0  18.439089\n",
       "2      0.185555   -0.218669    0.437338     0.0  18.439089\n",
       "3      0.110231   -0.321751    0.682317     0.0  31.622777\n",
       "4      0.110164   -0.321751    0.141897     0.0  31.622777\n",
       "5      0.100436    0.000000    0.030294     0.0  19.000000\n",
       "6      0.099856    0.000000    0.000000     0.0  19.000000\n",
       "7      0.066827   -0.293589    0.000000     0.0  44.922155\n",
       "8      0.066812   -0.293589    0.933359     0.0  44.922155\n",
       "9      0.050743    0.000000    0.766496     0.0  35.000000"
      ]
     },
     "execution_count": 40,
     "metadata": {},
     "output_type": "execute_result"
    }
   ],
   "source": [
    "# Convert to pandas\n",
    "\n",
    "pd_dataset = pd.DataFrame({'Freq. Coeff.': mags, 'Spec. Rot.': phases, 'Spec. Dev.': sigs, 'Sector': sectors, 'Distance': distances})\n",
    "pd_dataset.head(10)"
   ]
  },
  {
   "cell_type": "markdown",
   "metadata": {},
   "source": [
    "# Visualization of Correlation Matrix:"
   ]
  },
  {
   "cell_type": "code",
   "execution_count": 44,
   "metadata": {},
   "outputs": [
    {
     "data": {
      "text/plain": [
       "<matplotlib.axes._subplots.AxesSubplot at 0x2350a17d188>"
      ]
     },
     "execution_count": 44,
     "metadata": {},
     "output_type": "execute_result"
    },
    {
     "data": {
      "image/png": "[encoded data removed]",
      "text/plain": [
       "<Figure size 648x576 with 2 Axes>"
      ]
     },
     "metadata": {
      "needs_background": "light"
     },
     "output_type": "display_data"
    }
   ],
   "source": [
    "# Correlation between columns\n",
    "\n",
    "corr_matrix = pd_dataset.corr()\n",
    "plt.figure(figsize=(9, 8))\n",
    "sns.heatmap(data = corr_matrix,cmap='coolwarm', annot=True, linewidths=0.2)"
   ]
  },
  {
   "cell_type": "markdown",
   "metadata": {},
   "source": [
    "# Generate Batch of Training Features:"
   ]
  },
  {
   "cell_type": "code",
   "execution_count": 56,
   "metadata": {},
   "outputs": [
    {
     "data": {
      "text/plain": [
       "torch.Size([422, 11, 120, 1])"
      ]
     },
     "execution_count": 56,
     "metadata": {},
     "output_type": "execute_result"
    }
   ],
   "source": [
    "# Generate batch of features\n",
    "group = len(feature_map)/BATCH_SIZE\n",
    "\n",
    "batch_features = np.split(feature_map, group)\n",
    "batch_features = np.array(batch_features)\n",
    "batch_features = torch.from_numpy(batch_features).float()\n",
    "\n",
    "batch_features.shape"
   ]
  },
  {
   "cell_type": "markdown",
   "metadata": {},
   "source": [
    "# Generate Batch of Training Classes:"
   ]
  },
  {
   "cell_type": "code",
   "execution_count": 57,
   "metadata": {},
   "outputs": [
    {
     "data": {
      "text/plain": [
       "torch.Size([422, 11])"
      ]
     },
     "execution_count": 57,
     "metadata": {},
     "output_type": "execute_result"
    }
   ],
   "source": [
    "# Generate batch of classes\n",
    "group = len(classes)/BATCH_SIZE\n",
    "\n",
    "batch_classes = np.split(classes, group)\n",
    "batch_classes = np.array(batch_classes)\n",
    "batch_classes = torch.from_numpy(batch_classes).long()\n",
    "\n",
    "batch_classes.shape"
   ]
  },
  {
   "cell_type": "markdown",
   "metadata": {},
   "source": [
    "# Set training device: CPU or GPU:"
   ]
  },
  {
   "cell_type": "code",
   "execution_count": 58,
   "metadata": {},
   "outputs": [
    {
     "name": "stdout",
     "output_type": "stream",
     "text": [
      "cuda:0\n"
     ]
    }
   ],
   "source": [
    "# Set training device: CPU or GPU\n",
    "device = torch.device(\"cuda:0\" if torch.cuda.is_available() else \"cpu\")\n",
    "#device = \"cpu\"\n",
    "print(device)"
   ]
  },
  {
   "cell_type": "markdown",
   "metadata": {},
   "source": [
    "# Design Neural Network Architecture:"
   ]
  },
  {
   "cell_type": "code",
   "execution_count": 293,
   "metadata": {},
   "outputs": [
    {
     "data": {
      "text/plain": [
       "Net(\n",
       "  (classifier): Sequential(\n",
       "    (0): Linear(in_features=120, out_features=50, bias=True)\n",
       "    (1): BatchNorm1d(50, eps=1e-05, momentum=0.1, affine=True, track_running_stats=True)\n",
       "    (2): Dropout(p=0.3, inplace=False)\n",
       "    (3): ReLU()\n",
       "    (4): Linear(in_features=50, out_features=50, bias=True)\n",
       "    (5): BatchNorm1d(50, eps=1e-05, momentum=0.1, affine=True, track_running_stats=True)\n",
       "    (6): Dropout(p=0.2, inplace=False)\n",
       "    (7): ReLU()\n",
       "    (8): Linear(in_features=50, out_features=30, bias=True)\n",
       "    (9): ReLU()\n",
       "    (10): Linear(in_features=30, out_features=2, bias=True)\n",
       "    (11): Sigmoid()\n",
       "  )\n",
       ")"
      ]
     },
     "execution_count": 293,
     "metadata": {},
     "output_type": "execute_result"
    }
   ],
   "source": [
    "# Fully Connected Neural Network (FCCN) Architecture\n",
    "\n",
    "import torch.nn as nn\n",
    "import torch.nn.functional as F\n",
    "\n",
    "class Net(nn.Module):\n",
    "    def __init__(self):\n",
    "        super(Net, self).__init__()\n",
    "        \n",
    "        self.classifier = nn.Sequential(\n",
    "            \n",
    "            nn.Linear(120, 50),\n",
    "            nn.BatchNorm1d(50),\n",
    "            nn.Dropout(0.30),\n",
    "            nn.ReLU(),\n",
    "            \n",
    "            nn.Linear(50, 50),\n",
    "            nn.BatchNorm1d(50),\n",
    "            nn.Dropout(0.2),\n",
    "            nn.ReLU(),\n",
    "            \n",
    "            nn.Linear(50, 30),\n",
    "            #nn.BatchNorm1d(40),\n",
    "            #nn.Dropout(0.1),\n",
    "            nn.ReLU(),\n",
    "            \n",
    "            nn.Linear(30, 2),\n",
    "            #nn.Softmax(dim=1)\n",
    "            nn.Sigmoid()\n",
    "            \n",
    "        )\n",
    "        \n",
    "    def forward(self, x):\n",
    "        x = x.view(-1, 120)\n",
    "        \n",
    "        x = self.classifier(x)\n",
    "        \n",
    "        return x\n",
    "\n",
    "\n",
    "net = Net()\n",
    "net = net.float()\n",
    "net.to(device)"
   ]
  },
  {
   "cell_type": "markdown",
   "metadata": {},
   "source": [
    "# Define Loss Function:"
   ]
  },
  {
   "cell_type": "code",
   "execution_count": 294,
   "metadata": {},
   "outputs": [],
   "source": [
    "# Loss function configuration\n",
    "\n",
    "import torch.optim as optim\n",
    "\n",
    "criterion = nn.CrossEntropyLoss()\n",
    "optimizer = optim.SGD(net.parameters(), lr=LEARNING_RATE, momentum=MOMENTUM, weight_decay=0.001) #, weight_decay=0.001"
   ]
  },
  {
   "cell_type": "markdown",
   "metadata": {},
   "source": [
    "# Training the Neural Network:"
   ]
  },
  {
   "cell_type": "code",
   "execution_count": 295,
   "metadata": {
    "scrolled": true
   },
   "outputs": [
    {
     "name": "stdout",
     "output_type": "stream",
     "text": [
      "Training started...\n",
      "\n",
      "EPOCH 1/20: Batch 422/422\n",
      "EPOCH 1/20(DONE): Loss = 0.6776466520759167  Accuracy = 0.6111589831968979 (GPU: cuda:0 - GeForce GTX 1050)\n",
      "\n",
      "EPOCH 2/20: Batch 422/422\n",
      "EPOCH 2/20(DONE): Loss = 0.6470409891616676  Accuracy = 0.6510124946143904 (GPU: cuda:0 - GeForce GTX 1050)\n",
      "\n",
      "EPOCH 3/20: Batch 422/422\n",
      "EPOCH 3/20(DONE): Loss = 0.6263099961794948  Accuracy = 0.6512279190004309 (GPU: cuda:0 - GeForce GTX 1050)\n",
      "\n",
      "EPOCH 4/20: Batch 422/422\n",
      "EPOCH 4/20(DONE): Loss = 0.613370144889818  Accuracy = 0.6602757432141318 (GPU: cuda:0 - GeForce GTX 1050)\n",
      "\n",
      "EPOCH 5/20: Batch 422/422\n",
      "EPOCH 5/20(DONE): Loss = 0.6031061723051478  Accuracy = 0.6744937526928049 (GPU: cuda:0 - GeForce GTX 1050)\n",
      "\n",
      "EPOCH 6/20: Batch 422/422\n",
      "EPOCH 6/20(DONE): Loss = 0.5955109424641912  Accuracy = 0.6956053425247738 (GPU: cuda:0 - GeForce GTX 1050)\n",
      "\n",
      "EPOCH 7/20: Batch 422/422\n",
      "EPOCH 7/20(DONE): Loss = 0.5890778541847428  Accuracy = 0.7048685911245153 (GPU: cuda:0 - GeForce GTX 1050)\n",
      "\n",
      "EPOCH 8/20: Batch 422/422\n",
      "EPOCH 8/20(DONE): Loss = 0.5829869988970282  Accuracy = 0.7169323567427833 (GPU: cuda:0 - GeForce GTX 1050)\n",
      "\n",
      "EPOCH 9/20: Batch 422/422\n",
      "EPOCH 9/20(DONE): Loss = 0.578007402648858  Accuracy = 0.7203791469194313 (GPU: cuda:0 - GeForce GTX 1050)\n",
      "\n",
      "EPOCH 10/20: Batch 422/422\n",
      "EPOCH 10/20(DONE): Loss = 0.5748143939751584  Accuracy = 0.7238259370960792 (GPU: cuda:0 - GeForce GTX 1050)\n",
      "\n",
      "EPOCH 11/20: Batch 422/422\n",
      "EPOCH 11/20(DONE): Loss = 0.5731177337079252  Accuracy = 0.7244722102542007 (GPU: cuda:0 - GeForce GTX 1050)\n",
      "\n",
      "EPOCH 12/20: Batch 422/422\n",
      "EPOCH 12/20(DONE): Loss = 0.5693720611633283  Accuracy = 0.7259801809564843 (GPU: cuda:0 - GeForce GTX 1050)\n",
      "\n",
      "EPOCH 13/20: Batch 422/422\n",
      "EPOCH 13/20(DONE): Loss = 0.5683112680488288  Accuracy = 0.7285652735889703 (GPU: cuda:0 - GeForce GTX 1050)\n",
      "\n",
      "EPOCH 14/20: Batch 422/422\n",
      "EPOCH 14/20(DONE): Loss = 0.5656737818678409  Accuracy = 0.7326583369237397 (GPU: cuda:0 - GeForce GTX 1050)\n",
      "\n",
      "EPOCH 15/20: Batch 422/422\n",
      "EPOCH 15/20(DONE): Loss = 0.5651706803890201  Accuracy = 0.7315812149935372 (GPU: cuda:0 - GeForce GTX 1050)\n",
      "\n",
      "EPOCH 16/20: Batch 422/422\n",
      "EPOCH 16/20(DONE): Loss = 0.5604073675040385  Accuracy = 0.7386902197328737 (GPU: cuda:0 - GeForce GTX 1050)\n",
      "\n",
      "EPOCH 17/20: Batch 422/422\n",
      "EPOCH 17/20(DONE): Loss = 0.5590028425246053  Accuracy = 0.7382593709607927 (GPU: cuda:0 - GeForce GTX 1050)\n",
      "\n",
      "EPOCH 18/20: Batch 422/422\n",
      "EPOCH 18/20(DONE): Loss = 0.5578256935869913  Accuracy = 0.7421370099095218 (GPU: cuda:0 - GeForce GTX 1050)\n",
      "\n",
      "EPOCH 19/20: Batch 422/422\n",
      "EPOCH 19/20(DONE): Loss = 0.5561035598200079  Accuracy = 0.7419215855234813 (GPU: cuda:0 - GeForce GTX 1050)\n",
      "\n",
      "EPOCH 20/20: Batch 422/422\n",
      "EPOCH 20/20(DONE): Loss = 0.5546668960726092  Accuracy = 0.7485997414907367 (GPU: cuda:0 - GeForce GTX 1050)\n",
      "\n",
      "\n",
      "Finished Training\n"
     ]
    }
   ],
   "source": [
    "# Training data on GPU\n",
    "\n",
    "train_loss = []\n",
    "train_accuracy = []\n",
    "\n",
    "test_loss = []\n",
    "test_accuracy = []\n",
    "\n",
    "print('Training started...\\n')\n",
    "\n",
    "for epoch in range(TOTAL_EPOCH):  # loop over the dataset multiple times\n",
    "\n",
    "    running_loss = 0.0\n",
    "    end_loss = 0.0\n",
    "    j = 0\n",
    "    \n",
    "    y_hat_classes = []\n",
    "    \n",
    "    for i in range(0, len(batch_features)):\n",
    "        \n",
    "        print('\\rEPOCH ' + str(epoch+1) + '/'+str(TOTAL_EPOCH)+': Batch ' + str(i+1) + '/' + str(len(batch_features)), end='')\n",
    "        \n",
    "        inputs = batch_features[i].to(device)\n",
    "        labels = batch_classes[i].to(device)\n",
    "        \n",
    "        # zero the parameter gradients\n",
    "        optimizer.zero_grad()\n",
    "        \n",
    "        # forward + backward + optimize\n",
    "        outputs = net(inputs)\n",
    "        loss = criterion(outputs, labels)\n",
    "        loss.backward()\n",
    "        optimizer.step()\n",
    "        \n",
    "        #print(outputs)\n",
    "        \n",
    "        # print statistics\n",
    "        running_loss += loss.item()\n",
    "        end_loss= loss.item()\n",
    "        \n",
    "        j += 1\n",
    "        \n",
    "        #y_hat_class = np.where(outputs.detach().cpu().numpy()<0.5, 0, 1)\n",
    "        _, predicted = torch.max(outputs, 1)\n",
    "        #print(predicted)\n",
    "        y_hat_class = predicted.cpu().numpy()\n",
    "        \n",
    "        #y_hat_classes.append(y_hat_class[0][1])\n",
    "        #y_hat_classes.append(y_hat_class[1][1])\n",
    "        y_hat_classes.append(y_hat_class)\n",
    "        \n",
    "    avg_loss = running_loss/j\n",
    "    \n",
    "    y_hat_classes = np.array(y_hat_classes)\n",
    "    accuracy = np.sum(classes.reshape(-1,1)==y_hat_classes.reshape(-1,1)) / len(classes.reshape(-1,1))\n",
    "    \n",
    "    train_accuracy.append(accuracy)\n",
    "    train_loss.append(avg_loss)\n",
    "\n",
    "    print('\\nEPOCH ' + str(epoch+1) + '/'+str(TOTAL_EPOCH)+'(DONE): ' + 'Loss = ' + str(avg_loss) + \n",
    "          '  Accuracy = ' + str(accuracy) + \n",
    "          ' (' + 'GPU: cuda:0 - ' + torch.cuda.get_device_name(0) + ')\\n')\n",
    "\n",
    "print('\\nFinished Training')"
   ]
  },
  {
   "cell_type": "markdown",
   "metadata": {},
   "source": [
    "# Visualization of Training Loss and Accuracy:"
   ]
  },
  {
   "cell_type": "code",
   "execution_count": 83,
   "metadata": {
    "scrolled": false
   },
   "outputs": [
    {
     "data": {
      "image/png": "[encoded data removed]",
      "text/plain": [
       "<Figure size 864x864 with 2 Axes>"
      ]
     },
     "metadata": {
      "needs_background": "light"
     },
     "output_type": "display_data"
    }
   ],
   "source": [
    "# Training accuracy and loss plotting\n",
    "\n",
    "fig, ax = plt.subplots(2, 1, figsize=(12,12))\n",
    "ax[0].plot(train_loss)\n",
    "ax[0].set_xlabel('Epoch')\n",
    "ax[0].set_ylabel('Loss')\n",
    "ax[0].set_title('Training Loss')\n",
    "\n",
    "ax[1].plot(train_accuracy)\n",
    "ax[1].set_xlabel('Epoch')\n",
    "ax[1].set_ylabel('Accuracy')\n",
    "ax[1].set_title('Training Accuracy')\n",
    "\n",
    "plt.tight_layout()\n",
    "plt.show()"
   ]
  },
  {
   "cell_type": "markdown",
   "metadata": {},
   "source": [
    "# Save Trained Model:"
   ]
  },
  {
   "cell_type": "code",
   "execution_count": 218,
   "metadata": {},
   "outputs": [
    {
     "name": "stderr",
     "output_type": "stream",
     "text": [
      "C:\\Users\\gc\\anaconda3\\lib\\site-packages\\torch\\serialization.py:360: UserWarning: Couldn't retrieve source code for container of type Net. It won't be checked for correctness upon loading.\n",
      "  \"type \" + obj.__name__ + \". It won't be checked \"\n"
     ]
    }
   ],
   "source": [
    "# Save trained model\n",
    "\n",
    "PATH = 'D:/SCA/256_256/nn_output/model_071.net'\n",
    "torch.save(net, PATH)\n"
   ]
  },
  {
   "cell_type": "markdown",
   "metadata": {},
   "source": [
    "# Generate Predicted Probability for Test Data:"
   ]
  },
  {
   "cell_type": "code",
   "execution_count": 473,
   "metadata": {},
   "outputs": [
    {
     "name": "stdout",
     "output_type": "stream",
     "text": [
      "tensor([[0.5212, 0.4060],\n",
      "        [0.2479, 0.7015],\n",
      "        [0.5775, 0.3875],\n",
      "        ...,\n",
      "        [0.5652, 0.3797],\n",
      "        [0.0066, 0.9936],\n",
      "        [0.2766, 0.6786]], device='cuda:0', grad_fn=<SigmoidBackward>)\n"
     ]
    }
   ],
   "source": [
    "# Compute neural network output\n",
    "\n",
    "outputs = net(test_feature_map.to(device))#.to(device)\n",
    "print(outputs)"
   ]
  },
  {
   "cell_type": "markdown",
   "metadata": {},
   "source": [
    "# Evaluate Bulk Accuracies:"
   ]
  },
  {
   "cell_type": "code",
   "execution_count": 456,
   "metadata": {
    "scrolled": true
   },
   "outputs": [
    {
     "name": "stdout",
     "output_type": "stream",
     "text": [
      "Accuracy:0.79\n",
      "Threshold: 0.4\n"
     ]
    }
   ],
   "source": [
    "res_arr = []\n",
    "thrs = []\n",
    "for c in range(40,90):\n",
    "\n",
    "    res = []\n",
    "    t_out = outputs\n",
    "    \n",
    "    op = 0\n",
    "\n",
    "    for i in range(0, len(t_out)):\n",
    "        #print(t_out)\n",
    "        op = c/100\n",
    "        v = t_out[i][1]\n",
    "        if v > op :\n",
    "            res.append(1)\n",
    "\n",
    "        else:\n",
    "            res.append(0)\n",
    "\n",
    "    res = np.array(res)        \n",
    "    predicted = torch.from_numpy(res)\n",
    "\n",
    "    nd_predict = predicted.cpu().numpy()\n",
    "    \n",
    "    \n",
    "    #####\n",
    "    correct = 0\n",
    "    total = 0\n",
    "\n",
    "    with torch.no_grad():\n",
    "\n",
    "        total = test_classes.size(0)\n",
    "        correct = (nd_predict == test_classes.numpy()).sum().item()\n",
    "\n",
    "    acc = (correct / total)\n",
    "    res_arr.append(acc)\n",
    "    thrs.append(op)\n",
    "\n",
    "    #print('Accuracy on '+ str(total) +' testset: ' + str(acc) + '  Threshold = ' + str(op))\n",
    "    \n",
    "m=max(res_arr)\n",
    "i=res_arr.index(max(res_arr))\n",
    "acu = \"%.2f\" % m\n",
    "print('Accuracy:' + str(acu))\n",
    "print('Threshold: ' + str((i+40)/100))"
   ]
  },
  {
   "cell_type": "markdown",
   "metadata": {},
   "source": [
    "# Evaluate Accuracy:"
   ]
  },
  {
   "cell_type": "code",
   "execution_count": 476,
   "metadata": {},
   "outputs": [
    {
     "name": "stdout",
     "output_type": "stream",
     "text": [
      "Computing accuracy...\n",
      "Accuracy on 11635 testset: 0.7589\n"
     ]
    }
   ],
   "source": [
    "res = []\n",
    "pred_accuracy_dict = []\n",
    "t_out = outputs\n",
    "\n",
    "op = 0\n",
    "print('Computing accuracy...')\n",
    "for i in range(0, len(t_out)):\n",
    "    #print(t_out)\n",
    "    #op = c/100\n",
    "    v = t_out[i][0]\n",
    "    #print(str(v))\n",
    "    if v > 0.5:\n",
    "        res.append(1)\n",
    "        d = {'t': 'c', 'f': test_files_title[i].split('.')[0], 'a': t_out[i][1]}\n",
    "        pred_accuracy_dict.append(d)\n",
    "\n",
    "    else:\n",
    "        res.append(0)\n",
    "        d = {'t': 'e', 'f': test_files_title[i].split('.')[0], 'a': t_out[i][0]}\n",
    "        pred_accuracy_dict.append(d)\n",
    "\n",
    "res = np.array(res)        \n",
    "predicted = torch.from_numpy(res)\n",
    "\n",
    "nd_predict = predicted.cpu().numpy()\n",
    "\n",
    "\n",
    "#####\n",
    "correct = 0\n",
    "total = 0\n",
    "\n",
    "with torch.no_grad():\n",
    "\n",
    "    total = test_classes.size(0)\n",
    "    correct = (nd_predict == test_classes.numpy()).sum().item()\n",
    "\n",
    "acc = (correct / total)\n",
    "\n",
    "acu = \"%.4f\" % acc\n",
    "print('Accuracy on '+ str(total) +' testset: ' + str(acu))"
   ]
  },
  {
   "cell_type": "code",
   "execution_count": 477,
   "metadata": {},
   "outputs": [
    {
     "name": "stdout",
     "output_type": "stream",
     "text": [
      "REPORTING FOR E LIST:\n",
      "\n",
      "Higher confidence in PFCNN than unet: 0 roi out of 11635\n",
      "Lower confidence in Probing FCNN than unet: 11635 roi out of 11635\n",
      "\n",
      "Average higher difference of confidence (D1): 0.20618377498093005\n",
      "Average lower difference of confidence (D2): -0.5122380955460709\n",
      "Difference (D1 - D2): -0.30605432056514087\n",
      "\n",
      "Average higher confidence: 0.9145799951595404\n",
      "Average lower confidence: 0.1228411159502727\n",
      "\n",
      "Average confidence in unet: 0.6350792114963449\n",
      "Average confidence in pfcnn: 0.1228411159502727\n",
      "Their difference (pfcnn-unet): 0.5122380955460722\n",
      "\n",
      "Equal confidence in Probing FCNN and unet: 0 out of 11635\n",
      "###################\n",
      "\n",
      "\n"
     ]
    }
   ],
   "source": [
    "higher_count = 0\n",
    "higher_val = []\n",
    "high_conf = []\n",
    "avg_higher=0\n",
    "pfcnn_sum = 0\n",
    "\n",
    "lower_count = 0\n",
    "lower_val = []\n",
    "low_conf = []\n",
    "avg_lower=0\n",
    "unet_sum = 0\n",
    "\n",
    "equal_count = 0\n",
    "equal_val = []\n",
    "\n",
    "unet_conf_arr = []\n",
    "pfcnn_conf_arr = []\n",
    "\n",
    "for i in range(0, len(t_out)):\n",
    "    unet_dict = unet_prediction_accuracies[i]\n",
    "    native_dict = pred_accuracy_dict[i]\n",
    "    \n",
    "    conf_unet = float(unet_dict.get('a'))\n",
    "    conf_pfcnn = float(native_dict.get('a'))\n",
    "    \n",
    "    unet_conf_arr.append(conf_unet)\n",
    "    pfcnn_conf_arr.append(conf_pfcnn)\n",
    "    \n",
    "    unet_sum += conf_unet\n",
    "    pfcnn_sum += conf_pfcnn\n",
    "    \n",
    "    if conf_pfcnn > conf_unet:\n",
    "        higher_count += 1\n",
    "        hv = conf_pfcnn-conf_unet\n",
    "        higher_val.append(hv)\n",
    "        high_conf.append(conf_pfcnn)\n",
    "        \n",
    "    elif conf_pfcnn < conf_unet:\n",
    "        lower_count += 1\n",
    "        lv = conf_pfcnn-conf_unet\n",
    "        lower_val.append(lv)\n",
    "        low_conf.append(conf_pfcnn)\n",
    "        \n",
    "    elif conf_pfcnn == conf_unet:\n",
    "        equal_count += 1\n",
    "        lower_val.append(conf_pfcnn)\n",
    "        \n",
    "#avg_higher_diff=sum(higher_val) / len(higher_val)\n",
    "avg_lower_diff=sum(lower_val) / len(lower_val)\n",
    "#avg_high_conf = sum(high_conf) / len(high_conf)\n",
    "avg_low_conf = sum(low_conf) / len(low_conf)\n",
    "avg_pfcnn = pfcnn_sum/len(t_out)\n",
    "avg_unet = unet_sum/len(t_out)\n",
    "        \n",
    "## Reporting ##\n",
    "print('REPORTING FOR E LIST:\\n')\n",
    "print('Higher confidence in PFCNN than unet: ' + str(higher_count) + ' roi out of '+str(len(t_out)))\n",
    "print('Lower confidence in Probing FCNN than unet: ' + str(lower_count) + ' roi out of '+str(len(t_out))+'\\n')\n",
    "\n",
    "print('Average higher difference of confidence (D1): '+str(avg_higher_diff))\n",
    "print('Average lower difference of confidence (D2): '+str(avg_lower_diff))\n",
    "print('Difference (D1 - D2): '+str(avg_higher_diff-(-avg_lower_diff))+'\\n')\n",
    "\n",
    "print('Average higher confidence: '+str(avg_high_conf))\n",
    "print('Average lower confidence: '+str(avg_low_conf)+'\\n')\n",
    "\n",
    "print('Average confidence in unet: '+str(avg_unet))\n",
    "print('Average confidence in pfcnn: '+str(avg_pfcnn))\n",
    "#print('Their average ((pfcnn+unet)/2): '+str((avg_pfcnn+avg_unet)/2))\n",
    "print('Their difference (pfcnn-unet): '+str(avg_unet-avg_pfcnn)+'\\n')\n",
    "\n",
    "print('Equal confidence in Probing FCNN and unet: ' + str(equal_count) + ' out of '+str(len(t_out)))\n",
    "\n",
    "print('###################\\n\\n')"
   ]
  },
  {
   "cell_type": "code",
   "execution_count": 478,
   "metadata": {},
   "outputs": [
    {
     "name": "stdout",
     "output_type": "stream",
     "text": [
      "Standard deviation of Tupor's sample is : 0.10265822331369646\n",
      "Standard deviation of pfcnn sample is : 0.13408694290643805\n",
      "Average confidence of Tupor's sample is : 0.6350792114963473\n",
      "Average confidence of pfcnn sample is : 0.1228411159502727\n"
     ]
    }
   ],
   "source": [
    "# Compute std dev.\n",
    "\n",
    "import statistics \n",
    "from statistics import mean \n",
    "\n",
    "# Standard deviation of list \n",
    "# Using pstdev() \n",
    "res_unet = statistics.pstdev(unet_conf_arr) \n",
    "res_pfcnn = statistics.pstdev(pfcnn_conf_arr) \n",
    "\n",
    "average_unet = mean(unet_conf_arr) \n",
    "average_pfcnn = mean(pfcnn_conf_arr) \n",
    "  \n",
    "# Printing result \n",
    "print(\"Standard deviation of Tupor's sample is : \" + str(res_unet))\n",
    "print(\"Standard deviation of pfcnn sample is : \" + str(res_pfcnn))\n",
    "print(\"Average confidence of Tupor's sample is : \" + str(average_unet))\n",
    "print(\"Average confidence of pfcnn sample is : \" + str(average_pfcnn))"
   ]
  },
  {
   "cell_type": "code",
   "execution_count": 462,
   "metadata": {},
   "outputs": [
    {
     "data": {
      "image/png": "[encoded data removed]",
      "text/plain": [
       "<Figure size 1440x720 with 1 Axes>"
      ]
     },
     "metadata": {},
     "output_type": "display_data"
    }
   ],
   "source": [
    "x_mypred = []\n",
    "y_unetpred = []\n",
    "\n",
    "x_ = []\n",
    "y_ = []\n",
    "\n",
    "index_list = random.sample(range(0,len(pred_accuracy_dict)), 400)\n",
    "\n",
    "for indx in index_list:\n",
    "    x_mypred.append(pred_accuracy_dict[indx].get('a'))\n",
    "    \n",
    "for indx in index_list:\n",
    "    y_unetpred.append(unet_prediction_accuracies[indx].get('a'))\n",
    "    \n",
    "x_mypred = np.array(x_mypred)\n",
    "y_unetpred = np.array(y_unetpred)\n",
    "\n",
    "for itm in x_mypred:\n",
    "    x_.append(itm.item())\n",
    "    \n",
    "for itm in y_unetpred:\n",
    "    y_.append(itm.item())\n",
    "\n",
    "x_.append(0.0)\n",
    "y_.append(0.0)\n",
    "x_.append(1.0)\n",
    "y_.append(1.0)\n",
    "    \n",
    "x_ = np.array(x_)\n",
    "y_ = np.array(y_)\n",
    "\n",
    "x_ = x_.astype(np.float)\n",
    "y_ = y_.astype(np.float)\n",
    "\n",
    "plt.rcParams[\"figure.figsize\"] = (20,10)\n",
    "\n",
    "plt.xlabel('Confidence values of Probing FCNN Classifier')\n",
    "plt.ylabel('Confidence values of U-net Classifier')\n",
    "#plt.title('scatter plot: probing fcnn confidence score vs. unet confidence score (E list 100 points)')\n",
    "\n",
    "plt.plot(x_, y_, linestyle='none', marker='o');\n",
    "plt.show()\n"
   ]
  },
  {
   "cell_type": "code",
   "execution_count": 449,
   "metadata": {},
   "outputs": [
    {
     "name": "stdout",
     "output_type": "stream",
     "text": [
      "Accuracy on 5094 testset: 0.9990\n"
     ]
    }
   ],
   "source": [
    "combined_predict = []\n",
    "comb_pred_accuracy_dict = []\n",
    "\n",
    "for i in range(0, len(t_out)):\n",
    "    unet_dict = unet_prediction_accuracies[i]\n",
    "    native_dict = pred_accuracy_dict[i]\n",
    "    \n",
    "    new_accuracy = (float(unet_dict.get('a'))+float(native_dict.get('a')))/2\n",
    "        \n",
    "    if new_accuracy > 0.7:\n",
    "        combined_predict.append(1)\n",
    "\n",
    "        d = {'t': 'c', 'f': unet_dict.get('f'), 'a': new_accuracy}\n",
    "        comb_pred_accuracy_dict.append(d)\n",
    "\n",
    "    else:\n",
    "        combined_predict.append(0)\n",
    "\n",
    "        d = {'t': 'e', 'f': unet_dict.get('f'), 'a': new_accuracy}\n",
    "        comb_pred_accuracy_dict.append(d)\n",
    "    \n",
    "combined_predict = np.array(combined_predict)\n",
    "\n",
    "# Compute combined accuracy\n",
    "correct = 0\n",
    "total = 0\n",
    "\n",
    "with torch.no_grad():\n",
    "\n",
    "    total = test_classes.size(0)\n",
    "    correct = (combined_predict == test_classes.numpy()).sum().item()\n",
    "\n",
    "acc = (correct / total)\n",
    "\n",
    "acu = \"%.4f\" % acc\n",
    "print('Accuracy on '+ str(total) +' testset: ' + str(acu))"
   ]
  },
  {
   "cell_type": "markdown",
   "metadata": {},
   "source": [
    "# Combining Output of two Neural Networks:"
   ]
  },
  {
   "cell_type": "code",
   "execution_count": 220,
   "metadata": {},
   "outputs": [
    {
     "name": "stdout",
     "output_type": "stream",
     "text": [
      "Accuracy on 2089 testset: 0.7042\n"
     ]
    }
   ],
   "source": [
    "combined_predict = []\n",
    "comb_pred_accuracy_dict = []\n",
    "\n",
    "for i in range(0, len(t_out)):\n",
    "    unet_dict = unet_prediction_accuracies[i]\n",
    "    native_dict = pred_accuracy_dict[i]\n",
    "    \n",
    "    if unet_dict.get('t') == native_dict.get('t'):\n",
    "        new_accuracy = (float(unet_dict.get('a'))+float(native_dict.get('a')))/2\n",
    "        \n",
    "        if native_dict.get('t') == 'c' and new_accuracy > 0.55:\n",
    "            combined_predict.append(1)\n",
    "            \n",
    "            d = {'t': 'c', 'f': unet_dict.get('f'), 'a': new_accuracy}\n",
    "            comb_pred_accuracy_dict.append(d)\n",
    "            \n",
    "        elif native_dict.get('t') == 'c' and new_accuracy < 0.55:\n",
    "            combined_predict.append(0)\n",
    "            \n",
    "            d = {'t': 'e', 'f': unet_dict.get('f'), 'a': new_accuracy}\n",
    "            comb_pred_accuracy_dict.append(d)\n",
    "            \n",
    "        elif native_dict.get('t') == 'e' and new_accuracy < 0.55:\n",
    "            combined_predict.append(0)\n",
    "            \n",
    "            d = {'t': 'e', 'f': unet_dict.get('f'), 'a': new_accuracy}\n",
    "            comb_pred_accuracy_dict.append(d)\n",
    "            \n",
    "        elif native_dict.get('t') == 'e' and new_accuracy > 0.55:\n",
    "            combined_predict.append(1)\n",
    "            \n",
    "            d = {'t': 'c', 'f': unet_dict.get('f'), 'a': new_accuracy}\n",
    "            comb_pred_accuracy_dict.append(d)\n",
    "            \n",
    "            \n",
    "    else:\n",
    "        unet_cat_prob = float(unet_dict.get('a'))\n",
    "        unet_echo_prob = 1-unet_cat_prob\n",
    "\n",
    "        native_echo_prob = float(native_dict.get('a'))\n",
    "        native_cat_prob = 1-native_echo_prob\n",
    "\n",
    "        new_accuracy_cat = (unet_cat_prob+native_cat_prob)/2\n",
    "        new_accuracy_echo = (unet_echo_prob+native_echo_prob)/2\n",
    "        \n",
    "        if new_accuracy_cat > new_accuracy_echo:\n",
    "            combined_predict.append(1)\n",
    "            \n",
    "            d = {'t': 'c', 'f': unet_dict.get('f'), 'a': new_accuracy_cat}\n",
    "            comb_pred_accuracy_dict.append(d)\n",
    "            \n",
    "        else:\n",
    "            combined_predict.append(0)\n",
    "            \n",
    "            d = {'t': 'e', 'f': unet_dict.get('f'), 'a': new_accuracy_echo}\n",
    "            comb_pred_accuracy_dict.append(d)\n",
    "            \n",
    "        # Or try the following\n",
    "        '''if new_accuracy_cat > 0.55:\n",
    "            combined_predict.append(1)\n",
    "        else:\n",
    "            combined_predict.append(0)'''\n",
    "    \n",
    "combined_predict = np.array(combined_predict)\n",
    "\n",
    "# Compute combined accuracy\n",
    "correct = 0\n",
    "total = 0\n",
    "\n",
    "with torch.no_grad():\n",
    "\n",
    "    total = test_classes.size(0)\n",
    "    correct = (combined_predict == test_classes.numpy()).sum().item()\n",
    "\n",
    "acc = (correct / total)\n",
    "\n",
    "acu = \"%.4f\" % acc\n",
    "print('Accuracy on '+ str(total) +' testset: ' + str(acu))"
   ]
  },
  {
   "cell_type": "code",
   "execution_count": 112,
   "metadata": {},
   "outputs": [
    {
     "name": "stdout",
     "output_type": "stream",
     "text": [
      "Accuracy on 13295 testset: 0.7789\n"
     ]
    }
   ],
   "source": [
    "combined_predict = []\n",
    "comb_pred_accuracy_dict = []\n",
    "\n",
    "for i in range(0, len(t_out)):\n",
    "    unet_dict = unet_prediction_accuracies[i]\n",
    "    native_dict = pred_accuracy_dict[i]\n",
    "    \n",
    "    new_accuracy = (float(unet_dict.get('a'))+float(native_dict.get('a')))/2\n",
    "        \n",
    "    if new_accuracy > 0.55:\n",
    "        combined_predict.append(1)\n",
    "        \n",
    "    else:\n",
    "        combined_predict.append(0)\n",
    "    \n",
    "combined_predict = np.array(combined_predict)\n",
    "\n",
    "# Compute combined accuracy\n",
    "correct = 0\n",
    "total = 0\n",
    "\n",
    "with torch.no_grad():\n",
    "\n",
    "    total = test_classes.size(0)\n",
    "    correct = (combined_predict == test_classes.numpy()).sum().item()\n",
    "\n",
    "acc = (correct / total)\n",
    "\n",
    "acu = \"%.4f\" % acc\n",
    "print('Accuracy on '+ str(total) +' testset: ' + str(acu))"
   ]
  },
  {
   "cell_type": "code",
   "execution_count": 105,
   "metadata": {},
   "outputs": [
    {
     "name": "stdout",
     "output_type": "stream",
     "text": [
      "Total test data: 13295\n",
      "Total catheter predicted by unet: 13295\n",
      "Total echo predicted by unet: 13295\n"
     ]
    }
   ],
   "source": [
    "print('Total test data: ' + str(len(t_out)))\n",
    "print('Total catheter predicted by unet: ' + str(len(t_out)))\n",
    "print('Total echo predicted by unet: ' + str(len(t_out)))"
   ]
  },
  {
   "cell_type": "code",
   "execution_count": 110,
   "metadata": {},
   "outputs": [
    {
     "data": {
      "text/plain": [
       "tensor([1, 1, 1,  ..., 1, 1, 1], device='cuda:0')"
      ]
     },
     "execution_count": 110,
     "metadata": {},
     "output_type": "execute_result"
    }
   ],
   "source": [
    "# The outputs are energies for 2 classes. \n",
    "# The higher the energy for a class, the more the network thinks that the feature is of the particular class. \n",
    "# Get the index of the highest energy\n",
    "\n",
    "_, predicted = torch.max(outputs, 1)\n",
    "nd_predict = predicted.cpu().numpy()\n",
    "predicted"
   ]
  },
  {
   "cell_type": "code",
   "execution_count": 66,
   "metadata": {},
   "outputs": [
    {
     "name": "stdout",
     "output_type": "stream",
     "text": [
      "Accuracy on 21109 testset: 0.7871050262921029\n"
     ]
    }
   ],
   "source": [
    "# Compute Accuracy on test result\n",
    "\n",
    "correct = 0\n",
    "total = 0\n",
    "\n",
    "with torch.no_grad():\n",
    "    \n",
    "    total = test_classes.size(0)\n",
    "    correct = (nd_predict == test_classes.numpy()).sum().item()\n",
    "    \n",
    "acc = (correct / total)\n",
    "\n",
    "print('Accuracy on '+ str(total) +' testset: ' + str(acc))"
   ]
  },
  {
   "cell_type": "code",
   "execution_count": 67,
   "metadata": {},
   "outputs": [
    {
     "name": "stdout",
     "output_type": "stream",
     "text": [
      "Confusion Matrix :\n",
      "[[   56     5]\n",
      " [ 4489 16559]]\n"
     ]
    }
   ],
   "source": [
    "# Confusion matrix\n",
    "# confusion_matrix(y_true, y_pred)\n",
    "\n",
    "results = confusion_matrix(nd_predict, test_classes.numpy(), labels=[0, 1])\n",
    "\n",
    "print('Confusion Matrix :')\n",
    "print(results) \n",
    "#print('Accuracy Score :',accuracy_score(test_classes, predicted))\n",
    "#print('Report : ')\n",
    "#print(classification_report(test_classes, predicted))"
   ]
  },
  {
   "cell_type": "code",
   "execution_count": null,
   "metadata": {},
   "outputs": [],
   "source": [
    "# Write NN output\n",
    "\n",
    "\n",
    "image_slice = 0\n",
    "xys = []\n",
    "r_path = 'D:/SCA/256_256/nn_output/bounding_boxes/'\n",
    "\n",
    "fig_size = plt.rcParams[\"figure.figsize\"]\n",
    "fig_size[0] = 6\n",
    "fig_size[1] = 6\n",
    "plt.rcParams[\"figure.figsize\"] = fig_size\n",
    "\n",
    "#len(nd_predict)\n",
    "for i in range(0, len(nd_predict)):\n",
    "    \n",
    "    print(test_files_title[i])\n",
    "    f_arr = test_files_title[i].split('_')\n",
    "    \n",
    "    p_sl = f_arr[0]\n",
    "    i_s = f_arr[1]\n",
    "    i_sub = f_arr[2]\n",
    "    o_type = f_arr[3]\n",
    "    x_val = f_arr[4]\n",
    "    y_val = f_arr[5].split('.')[0]\n",
    "    \n",
    "    img_path = r_path + p_sl + '/'+ i_s + '_' + i_sub +'.png'\n",
    "    imgcv = cv2.imread(img_path)\n",
    "    \n",
    "    x1 = int(x_val)-16\n",
    "    y1 = int(y_val)-16\n",
    "    x2 = int(x_val)+16\n",
    "    y2 = int(y_val)+16\n",
    "    \n",
    "    #conf = 0.99\n",
    "    \n",
    "    #label = 'C' if nd_predict[i] == 1 else 'E'\n",
    "    label = 'C' if o_type == 'c' else 'E'\n",
    "    \n",
    "    cv2.rectangle(imgcv,(x1,y1),(x2,y2),(0,255,0),1)\n",
    "    \n",
    "    labelSize=cv2.getTextSize(label,cv2.FONT_HERSHEY_COMPLEX,0.4,2)\n",
    "    \n",
    "    _x1 = x1\n",
    "    _y1 = y1\n",
    "    _x2 = _x1+labelSize[0][0]\n",
    "    _y2 = y1-int(labelSize[0][1])\n",
    "    \n",
    "    cv2.rectangle(imgcv,(_x1,_y1),(_x2,_y2),(0,255,0),cv2.FILLED)\n",
    "    cv2.putText(imgcv,label,(x1,y1),cv2.FONT_HERSHEY_COMPLEX,0.4,(0,0,0),1)\n",
    "    \n",
    "    cv2.imwrite(img_path,imgcv)"
   ]
  },
  {
   "cell_type": "code",
   "execution_count": null,
   "metadata": {},
   "outputs": [],
   "source": []
  }
 ],
 "metadata": {
  "kernelspec": {
   "display_name": "Python 3",
   "language": "python",
   "name": "python3"
  },
  "language_info": {
   "codemirror_mode": {
    "name": "ipython",
    "version": 3
   },
   "file_extension": ".py",
   "mimetype": "text/x-python",
   "name": "python",
   "nbconvert_exporter": "python",
   "pygments_lexer": "ipython3",
   "version": "3.7.6"
  }
 },
 "nbformat": 4,
 "nbformat_minor": 2
}
