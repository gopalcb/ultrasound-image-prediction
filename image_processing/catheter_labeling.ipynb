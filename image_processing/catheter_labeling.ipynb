{
 "cells": [
  {
   "cell_type": "markdown",
   "metadata": {},
   "source": [
    "### Dataset Labelling - applying color masks"
   ]
  },
  {
   "cell_type": "code",
   "execution_count": null,
   "metadata": {},
   "outputs": [],
   "source": [
    "\"\"\"\n",
    "dataset labelling script 2: stored in different dir\n",
    "------------------------------------\n",
    "Created on Wed May 16 16:00:18 2019\n",
    "@author: gopal\n",
    "\"\"\"\n",
    "import numpy as np\n",
    "from skimage import color\n",
    "import matplotlib.pyplot as plt\n",
    "import matplotlib.image as mpimg\n",
    "from scipy.io import loadmat\n",
    "import os"
   ]
  },
  {
   "cell_type": "code",
   "execution_count": null,
   "metadata": {},
   "outputs": [],
   "source": [
    "m_color = []\n",
    "folder = 58"
   ]
  },
  {
   "cell_type": "markdown",
   "metadata": {},
   "source": [
    "### Apply color masks on top of original images"
   ]
  },
  {
   "cell_type": "code",
   "execution_count": null,
   "metadata": {},
   "outputs": [],
   "source": [
    "# draw color mask on the original images\n",
    "def draw():\n",
    "    ri = False\n",
    "    sec_1st = True\n",
    "    found1 = False\n",
    "    last = False\n",
    "    coordinates = []\n",
    "    \n",
    "    # Find label pixels and set color label\n",
    "    for r in range(0, 256):\n",
    "        \n",
    "        for c in range(0, 256):\n",
    "            \n",
    "            if lbl[r][c] == 1:\n",
    "                \n",
    "                coordinates.append([r, c])\n",
    "                \n",
    "                '''\n",
    "                row1 = r - 2 if r >= 2 else r\n",
    "                row2 = r + 1 if r < 353 else r\n",
    "                \n",
    "                col1 = c - 2 if c >= 2 else c\n",
    "                col2 = c + 1 if c < 353 else c\n",
    "                '''\n",
    "                \n",
    "                try:\n",
    "                    if last == False:\n",
    "                        if 1 not in lbl[r+1] and found1:\n",
    "                            last = True\n",
    "                    \n",
    "                    if last == True:\n",
    "                        color_label[(r-2):(r+1), (c-2):(c+1)] = m_color \n",
    "                    \n",
    "                    elif ri == False:\n",
    "                        found1 = True\n",
    "                        color_label[(r-2):(r+1), (c-2):(c+1)] = m_color \n",
    "                        \n",
    "                    elif sec_1st:\n",
    "                        sec_1st = False\n",
    "                        color_label[(r-2):(r+1), (c-2):(c+1)] = m_color \n",
    "                        \n",
    "                    elif lbl[r][c+1] == 0:\n",
    "                        color_label[(r-2):(r+1), (c-2):(c+1)] = m_color\n",
    "                        \n",
    "                except:\n",
    "                    #print(\"cannot add color\")\n",
    "                    xx = 1\n",
    "                    \n",
    "        if found1:\n",
    "            ri = True\n",
    "            \n",
    "        sec_1st = True"
   ]
  },
  {
   "cell_type": "code",
   "execution_count": 2,
   "metadata": {},
   "outputs": [
    {
     "name": "stdout",
     "output_type": "stream",
     "text": [
      "Color masks drawing complete\n",
      "Data stored\n"
     ]
    }
   ],
   "source": [
    "def apply_color_drawings():\n",
    "    for folder in range(130):\n",
    "        \n",
    "        f_ul = loadmat('D:/dataset/Labelled_Data/' + str(folder).zfill(3) + 'm/UltrasounLabel.mat')\n",
    "        ul = f_ul[\"USImage\"]\n",
    "    \n",
    "        for i in range(71):\n",
    "    \n",
    "            img1 = ul[:, :, i]\n",
    "            nd_arr = np.array(img1)\n",
    "            img = nd_arr[20:276, 150:406]\n",
    "            #cat_256_256_2 = nd_arr[20:276, 280:536]\n",
    "    \n",
    "            # Initiate color label\n",
    "            color_label = np.zeros((256, 256, 3))\n",
    "    \n",
    "            # Draw catheter label\n",
    "            f_mat = loadmat('D:/dataset/Labelled_Data/' + str(folder).zfill(3) + 'm/CatheterLabel.mat')\n",
    "            cl = f_mat[\"catheterLabel\"]\n",
    "            temp = np.array(img1)\n",
    "    \n",
    "            for y in range(0, cl.shape[0]):\n",
    "                lbl1 = cl[y][0][:, :, i]\n",
    "                nd_arr = np.array(lbl1)\n",
    "                lbl = nd_arr[20:276, 150:406]\n",
    "    \n",
    "                m_color = [1, 0, 0] # Red\n",
    "                draw()\n",
    "    \n",
    "            # Construct RGB version of grey image\n",
    "            img_color = np.dstack((img, img, img))\n",
    "    \n",
    "            # Convert the input image and color label to Hue Saturation Value (HSV)\n",
    "            # colorspace\n",
    "            img_hsv = color.rgb2hsv(img_color)\n",
    "            color_label_hsv = color.rgb2hsv(color_label)\n",
    "    \n",
    "            # Replace the hue and saturation of the original image\n",
    "            # with that of the color label\n",
    "            img_hsv[..., 0] = color_label_hsv[..., 0]\n",
    "            img_hsv[..., 1] = color_label_hsv[..., 1] * 1 # 1 is opacity\n",
    "    \n",
    "            img_labelled = color.hsv2rgb(img_hsv)\n",
    "            \n",
    "            # Save output\n",
    "            i_dir = \"D:/SCA/256_256/labelled_png/\" + str(folder)\n",
    "            if not os.path.exists(i_dir):\n",
    "                os.makedirs(i_dir)\n",
    "    \n",
    "            m_dir = i_dir + \"/Mask\"\n",
    "            if not os.path.exists(m_dir):\n",
    "                os.makedirs(m_dir)\n",
    "    \n",
    "            mpimg.imsave(i_dir + \"/\" + str(i) + \"_1.png\", img_labelled)\n",
    "            mpimg.imsave(m_dir + \"/\" + str(i) + \"_1.png\", color_label)\n",
    "\n",
    "\n",
    "apply_color_drawings()()"
   ]
  }
 ],
 "metadata": {
  "kernelspec": {
   "display_name": "Python 3 (ipykernel)",
   "language": "python",
   "name": "python3"
  },
  "language_info": {
   "codemirror_mode": {
    "name": "ipython",
    "version": 3
   },
   "file_extension": ".py",
   "mimetype": "text/x-python",
   "name": "python",
   "nbconvert_exporter": "python",
   "pygments_lexer": "ipython3",
   "version": "3.11.2"
  }
 },
 "nbformat": 4,
 "nbformat_minor": 4
}
