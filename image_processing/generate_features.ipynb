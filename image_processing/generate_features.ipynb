{
 "cells": [
  {
   "cell_type": "markdown",
   "metadata": {},
   "source": [
    "### Generate features from Fourier coefficients to use as train data"
   ]
  },
  {
   "cell_type": "code",
   "execution_count": 1,
   "metadata": {},
   "outputs": [],
   "source": [
    "# Libraries import\n",
    "import numpy as np\n",
    "import pandas as pd\n",
    "import matplotlib\n",
    "import matplotlib.pyplot as plt\n",
    "import math\n",
    "import os\n",
    "from os import listdir\n",
    "from os.path import isfile, join\n",
    "\n",
    "%matplotlib inline\n",
    "# Get current/root directory\n",
    "root = os.getcwd()"
   ]
  },
  {
   "cell_type": "code",
   "execution_count": 2,
   "metadata": {},
   "outputs": [],
   "source": [
    "# Plot style\n",
    "plt.style.use('ggplot')\n",
    "plt.rcParams['figure.figsize'] = (18, 8)"
   ]
  },
  {
   "cell_type": "code",
   "execution_count": 3,
   "metadata": {},
   "outputs": [],
   "source": [
    "data = []\n",
    "sig_arr = []\n",
    "pid = 1\n",
    "N = 256\n",
    "# compute--\n",
    "# magnitude   phase   signature   distance   sector"
   ]
  },
  {
   "attachments": {},
   "cell_type": "markdown",
   "metadata": {},
   "source": [
    "#### Feature 1: Compute spectral rotation angle given r, c\n",
    "\n",
    "<img height=\"400\" width=\"400\" src=\"images/f1.PNG\" />"
   ]
  },
  {
   "cell_type": "code",
   "execution_count": null,
   "metadata": {},
   "outputs": [],
   "source": [
    "# Compute spectral rotation angle given r,c\n",
    "def spectral_rotation_angle(r, c):\n",
    "    x = r - (N / 2)\n",
    "    y = (N / 2) - c\n",
    "    q = 0 if x == 0 or y == 0 else (y / x)\n",
    "    phase = math.atan(q)\n",
    "    return phase"
   ]
  },
  {
   "cell_type": "markdown",
   "metadata": {},
   "source": [
    "#### Feature 2: Compute distance given r, c"
   ]
  },
  {
   "cell_type": "code",
   "execution_count": null,
   "metadata": {},
   "outputs": [],
   "source": [
    "# Compute distance given r,c\n",
    "def compute_distance(r, c):\n",
    "    x = r - (N / 2)\n",
    "    y = (N / 2) - c\n",
    "    d = math.sqrt(x*x+y*y)\n",
    "    return d"
   ]
  },
  {
   "cell_type": "markdown",
   "metadata": {},
   "source": [
    "#### Feature 3: Compute sector index\n",
    "\n",
    "<img height=\"400\" width=\"400\" src=\"images/f2.PNG\" />"
   ]
  },
  {
   "cell_type": "code",
   "execution_count": 3,
   "metadata": {},
   "outputs": [],
   "source": [
    "# Compute sector index\n",
    "def compute_sector(phase):\n",
    "    phase_d = abs(np.degrees(phase))\n",
    "    #print(phase_d)\n",
    "    v = (phase_d/22.5)//1 #get only integer\n",
    "    if v == 16:\n",
    "        return 0\n",
    "    return v"
   ]
  },
  {
   "cell_type": "markdown",
   "metadata": {},
   "source": [
    "#### Feature 4: Computing spectral deviation angle\n",
    "\n",
    "<img height=\"400\" width=\"400\" src=\"images/f3.PNG\" />"
   ]
  },
  {
   "cell_type": "code",
   "execution_count": 4,
   "metadata": {},
   "outputs": [],
   "source": [
    "# Computing spectral deviation angle\n",
    "def compute_theta(p1, p2, p3):\n",
    "    # p1(x1,y1)\n",
    "    # p2(x2,y2)\n",
    "    # p3(x3,y3)\n",
    "    HX1 = []\n",
    "    HX2 = []\n",
    "    \n",
    "    HX1.append(p1[0]-5) # x1 0\n",
    "    HX1.append(p1[1]) # y1 1\n",
    "    HX1.append(p1[0]+5) # x2 2\n",
    "    HX1.append(p1[1]) # y2 3\n",
    "    \n",
    "    HX2.append(p2[0]-5)\n",
    "    HX2.append(p2[1])\n",
    "    HX2.append(p2[0]+5)\n",
    "    HX2.append(p2[1])\n",
    "    \n",
    "    M1 = (HX1[3]-HX1[1])/(HX1[2]-HX1[0]) # Slope of HX1\n",
    "    M2 = (p2[1]-p1[1])/(p2[0]-p1[0]) # Slope of p1p2\n",
    "    M3 = (HX2[3]-HX2[1])/(HX2[2]-HX2[0]) # Slope of HX2\n",
    "    M4 = (p3[1]-p2[1])/(p3[0]-p2[0]) # Slope of p2p3\n",
    "    \n",
    "    TAN1 = abs((M2-M1)/(1+M1*M2))\n",
    "    THETA1 = math.atan(TAN1)\n",
    "    \n",
    "    TAN2 = abs((M4-M3)/(1+M3*M4))\n",
    "    THETA2 = math.atan(TAN2)\n",
    "    \n",
    "    # For negative slope, THETA1 is negative\n",
    "    if M2 < 0:\n",
    "        THETA1 = -THETA1\n",
    "        \n",
    "    if p3[1] < p2[1]:\n",
    "        THETA2 = -THETA2\n",
    "    \n",
    "    THETA3 = THETA2-THETA1\n",
    "    \n",
    "    #OBJ.append(THETA3)\n",
    "    \n",
    "    return THETA3"
   ]
  },
  {
   "cell_type": "markdown",
   "metadata": {},
   "source": [
    "#### Use the eq/functions above to generate features"
   ]
  },
  {
   "cell_type": "code",
   "execution_count": 4,
   "metadata": {},
   "outputs": [
    {
     "name": "stdout",
     "output_type": "stream",
     "text": [
      "102_114_1_e_h_261_153.txt\n",
      "102_115_1_c_248_226.txt\n",
      "102_115_1_c_271_244.txt\n",
      "...\n",
      "...\n"
     ]
    }
   ],
   "source": [
    "loc = 'D:/SCA/256_256/txt'\n",
    "files = [f for f in listdir(loc) if isfile(join(loc, f))]\n",
    "\n",
    "for file in files:\n",
    "    print(file)\n",
    "    \n",
    "    arr = file.split('_')\n",
    "    sl_no = arr[0]\n",
    "    slice_no = arr[1]\n",
    "    subslice_no= arr[2]\n",
    "    otype = arr[3]\n",
    "    x_0 = arr[4]\n",
    "    y_0 = arr[4].split('.')[0]\n",
    "    \n",
    "    dataset=pd.read_csv(loc + \"/\" + file, header=None, delimiter=\"\\t\")   \n",
    "    dataset = dataset.values\n",
    "    \n",
    "    for ds in dataset:\n",
    "        temp = []\n",
    "        st = ds[0].replace('<', '')\n",
    "        st = st.replace('>', '')\n",
    "        d = st.split(',')\n",
    "        d = np.array(d, dtype=np.float32)\n",
    "\n",
    "        spectrum = d[2]\n",
    "        phase = spectral_rotation_angle(d[0], d[1])\n",
    "        distance = compute_distance(d[0], d[1])\n",
    "        sector = compute_sector(phase)\n",
    "        signature_angle = 0\n",
    "        \n",
    "        if len(sig_arr) < 3:\n",
    "            p = []\n",
    "            x = d[0]-(N / 2) #r - (N / 2)\n",
    "            y = (N / 2) - d[1] #(N / 2) - c\n",
    "            p.append(x)\n",
    "            p.append(y)\n",
    "            sig_arr.append(p)\n",
    "            \n",
    "            if len(sig_arr) == 3:\n",
    "                THETA = compute_theta(sig_arr[0], sig_arr[1], sig_arr[2])\n",
    "                signature_angle = THETA\n",
    "            else:\n",
    "                signature_angle = 0\n",
    "        else:\n",
    "            p = []\n",
    "            x = d[0]-(N / 2) #r - (N / 2)\n",
    "            y = (N / 2) - d[1] #(N / 2) - c\n",
    "            \n",
    "            p.append(x)\n",
    "            p.append(y)\n",
    "            sig_arr[0] = sig_arr[1]\n",
    "            sig_arr[1] = sig_arr[2]\n",
    "            sig_arr[2] = p\n",
    "            \n",
    "            THETA = compute_theta(sig_arr[0], sig_arr[1], sig_arr[2])\n",
    "            signature_angle = THETA\n",
    "        \n",
    "        if math.isnan(spectrum):\n",
    "            spectrum = 0\n",
    "            \n",
    "        if math.isnan(phase):\n",
    "            phase = 0\n",
    "            \n",
    "        if math.isnan(sector):\n",
    "            sector = 0\n",
    "            \n",
    "        if math.isnan(distance):\n",
    "            distance = 0\n",
    "        \n",
    "        if math.isnan(signature_angle):\n",
    "            signature_angle = 0\n",
    "            \n",
    "        # mag,phase,signature,sector,distance\n",
    "        str_data = str(spectrum)+','+str(phase)+','+str(signature_angle)+','+str(sector)+','+str(distance)\n",
    "        \n",
    "        file_object = open('D:/SCA/256_256/feature_map/test_unet/'+file, 'a+')\n",
    "        file_object.write(str_data+'\\n')\n",
    "        file_object.close()"
   ]
  }
 ],
 "metadata": {
  "kernelspec": {
   "display_name": "Python 3 (ipykernel)",
   "language": "python",
   "name": "python3"
  },
  "language_info": {
   "codemirror_mode": {
    "name": "ipython",
    "version": 3
   },
   "file_extension": ".py",
   "mimetype": "text/x-python",
   "name": "python",
   "nbconvert_exporter": "python",
   "pygments_lexer": "ipython3",
   "version": "3.11.2"
  }
 },
 "nbformat": 4,
 "nbformat_minor": 4
}
