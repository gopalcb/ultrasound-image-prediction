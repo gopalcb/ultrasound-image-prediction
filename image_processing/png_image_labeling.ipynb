{
 "cells": [
  {
   "cell_type": "markdown",
   "metadata": {},
   "source": [
    "### PNG image labeling (purpose: train data visualization)\n",
    "\n",
    "Convert raw pixels to viewable PNG images and use image mask to draw 2D label on the PNG images."
   ]
  },
  {
   "cell_type": "code",
   "execution_count": null,
   "metadata": {},
   "outputs": [],
   "source": [
    "import numpy as np\n",
    "import pandas as pd\n",
    "import matplotlib\n",
    "import matplotlib.pyplot as plt\n",
    "import math\n",
    "import os\n",
    "from os import listdir\n",
    "from os.path import isfile, join\n",
    "import imageio"
   ]
  },
  {
   "cell_type": "code",
   "execution_count": 3,
   "metadata": {},
   "outputs": [],
   "source": [
    "# for testing only - \n",
    "def get_count(files):\n",
    "    for file in files:\n",
    "        dataset=pd.read_csv('D:/cat_window_loc/window_locations.txt', header=None, delimiter=\"\\t\")\n",
    "        dataset = dataset.values\n",
    "        count = 0\n",
    "        #print(dataset[0][0])\n",
    "        for ds in dataset:\n",
    "            #1/45/1/c/44,129-100,76-81,141-112,158-143,89-169,153-194,95-206,154-221,205\n",
    "            x = ds[0].split('/')\n",
    "            cl = x[4].split('-')\n",
    "            count = count + len(cl)\n",
    "            \n",
    "    print(count)\n",
    "    return count"
   ]
  },
  {
   "cell_type": "markdown",
   "metadata": {},
   "source": [
    "### Dataset labelling script"
   ]
  },
  {
   "cell_type": "code",
   "execution_count": 4,
   "metadata": {},
   "outputs": [
    {
     "name": "stdout",
     "output_type": "stream",
     "text": [
      "Patient 1...\n",
      "Patient 2...\n",
      "Patient 3...\n",
      "...\n",
      "...\n",
      "Patient 129...\n"
     ]
    }
   ],
   "source": [
    "\"\"\"\n",
    "dataset labelling script\n",
    "------------------------------------\n",
    "Created on Wed May 16 16:00:18 2019\n",
    "@author: gopal\n",
    "\"\"\"\n",
    "import numpy as np\n",
    "from skimage import color\n",
    "import matplotlib.pyplot as plt\n",
    "import matplotlib.image as mpimg\n",
    "from scipy.io import loadmat\n",
    "import os\n",
    "from scipy import misc\n",
    "\n",
    "# root data directory\n",
    "store_root = 'D:/SCA/256_256/'\n",
    "\n",
    "# total unique file system with data = 130\n",
    "for patient_str in range(130):\n",
    "    folder = q\n",
    "    print('Patient ' + str(pat_object) + '...')\n",
    "\n",
    "    f_ul = loadmat('D:/dataset/Labelled_Data/' + str(patient_str).zfill(3) + 'm/UltrasounLabel.mat')\n",
    "    ul = f_ul[\"USImage\"]\n",
    "\n",
    "    for slice_index in range(128):\n",
    "        #device = torch.device(\"cuda\")\n",
    "        #ul = torch.from_numpy(ul).long().to(device)\n",
    "        img = ul[:, :, slice_index]\n",
    "        nd_arr = np.array(img)\n",
    "        #nd_arr = nd_arr.to(device)\n",
    "\n",
    "        arr_256_256_1 = nd_arr[20:276, 150:406]\n",
    "        arr_256_256_2 = nd_arr[20:276, 280:536]\n",
    "\n",
    "        i_dir = store_root + 'png/' + str(patient_str) + '/'              \n",
    "        if not os.path.exists(i_dir):\n",
    "            os.makedirs(i_dir)\n",
    "\n",
    "        r_dir = store_root + 'raw/' + str(patient_str) + '/'\n",
    "        if not os.path.exists(r_dir):\n",
    "            os.makedirs(r_dir)\n",
    "\n",
    "        #imageio.imwrite('filename.jpg', array)\n",
    "        imageio.imwrite(i_dir + str(slice_index) + '_1.png', arr_256_256_1)\n",
    "        imageio.imwrite(i_dir + str(slice_index) + '_2.png', arr_256_256_2)\n",
    "\n",
    "        img_1 = imageio.imread(i_dir + str(slice_index) + '_1.png')\n",
    "        img_2 = imageio.imread(i_dir + str(slice_index) + '_2.png')\n",
    "\n",
    "        img_1.tofile(r_dir + str(x) + '_1') # Create raw file\n",
    "        img_from_raw1 = np.fromfile(r_dir + str(slice_index) + '_1', dtype=np.uint8)\n",
    "\n",
    "        img_2.tofile(r_dir + str(x) + '_2') # Create raw file\n",
    "        img_from_raw2 = np.fromfile(r_dir + str(slice_index) + '_2', dtype=np.uint8)\n",
    "        "
   ]
  }
 ],
 "metadata": {
  "kernelspec": {
   "display_name": "Python 3 (ipykernel)",
   "language": "python",
   "name": "python3"
  },
  "language_info": {
   "codemirror_mode": {
    "name": "ipython",
    "version": 3
   },
   "file_extension": ".py",
   "mimetype": "text/x-python",
   "name": "python",
   "nbconvert_exporter": "python",
   "pygments_lexer": "ipython3",
   "version": "3.11.2"
  }
 },
 "nbformat": 4,
 "nbformat_minor": 4
}
